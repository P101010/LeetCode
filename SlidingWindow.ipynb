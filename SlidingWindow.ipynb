{
 "cells": [
  {
   "cell_type": "markdown",
   "metadata": {},
   "source": [
    "Best Time to Buy and Sell Stock\n",
    "Solved \n",
    "You are given an integer array prices where prices[i] is the price of NeetCoin on the ith day.\n",
    "\n",
    "You may choose a single day to buy one NeetCoin and choose a different day in the future to sell it.\n",
    "\n",
    "Return the maximum profit you can achieve. You may choose to not make any transactions, in which case the profit would be 0.\n",
    "\n",
    "Example 1:\n",
    "\n",
    "Input: prices = [10,1,5,6,7,1]\n",
    "\n",
    "Output: 6\n",
    "Explanation: Buy prices[1] and sell prices[4], profit = 7 - 1 = 6.\n",
    "\n",
    "Example 2:\n",
    "\n",
    "Input: prices = [10,8,7,5,2]\n",
    "\n",
    "Output: 0\n",
    "Explanation: No profitable transactions can be made, thus the max profit is 0."
   ]
  },
  {
   "cell_type": "code",
   "execution_count": 19,
   "metadata": {},
   "outputs": [],
   "source": [
    "    def maxProfit(prices):\n",
    "        stack = []\n",
    "        maxProfit = 0\n",
    "        for price in prices:  \n",
    "            if stack and stack[-1]>price:\n",
    "                stack.pop()\n",
    "                stack.append(price)\n",
    "            elif stack and stack[-1]<price:\n",
    "                maxProfit = max(maxProfit, price - stack[-1])\n",
    "            else:\n",
    "                stack.append(price)\n",
    "        \n",
    "        return maxProfit"
   ]
  },
  {
   "cell_type": "code",
   "execution_count": 20,
   "metadata": {},
   "outputs": [
    {
     "data": {
      "text/plain": [
       "5"
      ]
     },
     "execution_count": 20,
     "metadata": {},
     "output_type": "execute_result"
    }
   ],
   "source": [
    "maxProfit([7,1,5,3,6,4])"
   ]
  },
  {
   "cell_type": "code",
   "execution_count": 16,
   "metadata": {},
   "outputs": [],
   "source": [
    "# using while loop and pointers\n",
    "\n",
    "def maxProfits(prices):\n",
    "    l = 0\n",
    "    r = 1\n",
    "    maxProfit = 0\n",
    "\n",
    "    while r < len(prices):\n",
    "        if prices[l] < prices[r]:\n",
    "            maxProfit = max(maxProfit, prices[r]-prices[l])\n",
    "        elif prices[l] > prices[r]:\n",
    "            l = r\n",
    "        r += 1\n",
    "    \n",
    "    return maxProfit\n"
   ]
  },
  {
   "cell_type": "code",
   "execution_count": 17,
   "metadata": {},
   "outputs": [
    {
     "data": {
      "text/plain": [
       "5"
      ]
     },
     "execution_count": 17,
     "metadata": {},
     "output_type": "execute_result"
    }
   ],
   "source": [
    "maxProfits([7,1,5,3,6,4])"
   ]
  },
  {
   "cell_type": "markdown",
   "metadata": {},
   "source": [
    "Longest Substring Without Repeating Characters\n",
    "Given a string s, find the length of the longest substring without duplicate characters.\n",
    "\n",
    "A substring is a contiguous sequence of characters within a string.\n",
    "\n",
    "Example 1:\n",
    "\n",
    "Input: s = \"zxyzxyz\"\n",
    "\n",
    "Output: 3\n",
    "Explanation: The string \"xyz\" is the longest without duplicate characters.\n",
    "\n",
    "Example 2:\n",
    "\n",
    "Input: s = \"xxxx\"\n",
    "\n",
    "Output: 1\n",
    "Constraints:\n",
    "\n",
    "0 <= s.length <= 1000\n",
    "s may consist of printable ASCII characters."
   ]
  },
  {
   "cell_type": "code",
   "execution_count": null,
   "metadata": {},
   "outputs": [],
   "source": [
    "class Solution(object):\n",
    "    def lengthOfLongestSubstring(self, s):\n",
    "        \"\"\"\n",
    "        :type s: str\n",
    "        :rtype: int\n",
    "        \"\"\"\n",
    "        longestSeq = 0\n",
    "        p = 0\n",
    "        start = 0\n",
    "\n",
    "        while start < len(s):\n",
    "            hashset = set()\n",
    "            while p < len(s) and s[p] not in hashset:\n",
    "                hashset.add(s[p])\n",
    "                p += 1\n",
    "            longestSeq = max(longestSeq, len(hashset))\n",
    "            start += 1\n",
    "            p = start\n",
    "\n",
    "        return longestSeq"
   ]
  },
  {
   "cell_type": "code",
   "execution_count": 21,
   "metadata": {},
   "outputs": [],
   "source": [
    "# Longest sequence of consecutive charecters\n",
    "\n",
    "class Solution(object):\n",
    "    def lengthOfLongestSubstring(self, s):\n",
    "        \"\"\"\n",
    "        :type s: str\n",
    "        :rtype: int\n",
    "        \"\"\"\n",
    "        longestSeq = 1\n",
    "        p = 0\n",
    "        while p < len(s):\n",
    "            start = ord(s[p]) - ord('a')\n",
    "            p+=1\n",
    "            while p < len(s) and ((start + 1) == (ord(s[p]) - ord('a'))):\n",
    "                longestSeq += 1\n",
    "                p+=1\n",
    "        return longestSeq"
   ]
  },
  {
   "cell_type": "markdown",
   "metadata": {},
   "source": [
    "Longest Repeating Character Replacement\n",
    "Solved \n",
    "You are given a string s consisting of only uppercase english characters and an integer k. You can choose up to k characters of the string and replace them with any other uppercase English character.\n",
    "\n",
    "After performing at most k replacements, return the length of the longest substring which contains only one distinct character.\n",
    "\n",
    "Example 1:\n",
    "\n",
    "Input: s = \"XYYX\", k = 2\n",
    "\n",
    "Output: 4\n",
    "Explanation: Either replace the 'X's with 'Y's, or replace the 'Y's with 'X's.\n",
    "\n",
    "Example 2:\n",
    "\n",
    "Input: s = \"AAABABB\", k = 1\n",
    "\n",
    "Output: 5"
   ]
  },
  {
   "cell_type": "code",
   "execution_count": 24,
   "metadata": {},
   "outputs": [],
   "source": [
    "    def characterReplacement(s: str, k: int):\n",
    "        count = {}\n",
    "        res = 0\n",
    "        l = 0\n",
    "\n",
    "        for r in range(0, len(s)):\n",
    "            count[s[r]] = 1 + count.get(s[r], 0)\n",
    "\n",
    "            while (r - l + 1) - max(count.values()) > k:\n",
    "                count[s[l]] -= 1\n",
    "                l += 1\n",
    "\n",
    "            res = max(r - l + 1, res)\n",
    "\n",
    "        return res\n",
    "\n",
    "\n",
    "            \n",
    "        "
   ]
  },
  {
   "cell_type": "code",
   "execution_count": 26,
   "metadata": {},
   "outputs": [
    {
     "data": {
      "text/plain": [
       "5"
      ]
     },
     "execution_count": 26,
     "metadata": {},
     "output_type": "execute_result"
    }
   ],
   "source": [
    "characterReplacement(\"AAABABB\", 1)"
   ]
  },
  {
   "cell_type": "markdown",
   "metadata": {},
   "source": [
    "Permutation in String\n",
    "Solved \n",
    "You are given two strings s1 and s2.\n",
    "\n",
    "Return true if s2 contains a permutation of s1, or false otherwise. That means if a permutation of s1 exists as a substring of s2, then return true.\n",
    "\n",
    "Both strings only contain lowercase letters.\n",
    "\n",
    "Example 1:\n",
    "\n",
    "Input: s1 = \"abc\", s2 = \"lecabee\"\n",
    "\n",
    "Output: true\n",
    "Explanation: The substring \"cab\" is a permutation of \"abc\" and is present in \"lecabee\".\n",
    "\n",
    "Example 2:\n",
    "\n",
    "Input: s1 = \"abc\", s2 = \"lecaabee\"\n",
    "\n",
    "Output: false\n",
    "Constraints:\n",
    "\n",
    "1 <= s1.length, s2.length <= 1000\n"
   ]
  },
  {
   "cell_type": "code",
   "execution_count": 56,
   "metadata": {},
   "outputs": [],
   "source": [
    "\n",
    "    def checkInclusion(s1: str, s2: str):\n",
    "        hashset = {}\n",
    "        l=0\n",
    "        r =0\n",
    "        \n",
    "        if len(s1) > len(s2):\n",
    "            return False\n",
    "\n",
    "        for char in s1:\n",
    "            hashset[char] = 1 + hashset.get(char, 0)\n",
    "\n",
    "        while r<(len(s2)):\n",
    "            if s2[l] in hashset:\n",
    "                duplicate = hashset\n",
    "                while duplicate.get(s2[r], 0)!= 0:\n",
    "                    duplicate[s2[r]] -= 1\n",
    "                    r += 1\n",
    "                    if max(duplicate.values()) == 0:\n",
    "                        return True\n",
    "    \n",
    "                l = r\n",
    "            else:\n",
    "                l += 1\n",
    "                r += 1\n",
    "\n",
    "        return False"
   ]
  },
  {
   "cell_type": "code",
   "execution_count": 59,
   "metadata": {},
   "outputs": [],
   "source": [
    "s1=\"abc\"\n",
    "s2=\"lecabee\""
   ]
  },
  {
   "cell_type": "code",
   "execution_count": 60,
   "metadata": {},
   "outputs": [
    {
     "data": {
      "text/plain": [
       "True"
      ]
     },
     "execution_count": 60,
     "metadata": {},
     "output_type": "execute_result"
    }
   ],
   "source": [
    "checkInclusion(s1, s2)"
   ]
  },
  {
   "cell_type": "code",
   "execution_count": null,
   "metadata": {},
   "outputs": [],
   "source": [
    "# Used a slidining wndow and another hashset for the sliding window to make it quicker \n",
    "\n",
    "class Solution(object):\n",
    "    def checkInclusion(self, s1, s2):\n",
    "        \"\"\"\n",
    "        :type s1: str\n",
    "        :type s2: str\n",
    "        :rtype: bool\n",
    "        \"\"\"\n",
    "        target = {}\n",
    "        r =0\n",
    "        windowLength = len(s1)\n",
    "        for char in s1:\n",
    "            target[char] = 1 + target.get(char, 0)\n",
    "\n",
    "        for i in range(len(s2)):\n",
    "            windowSet = {}\n",
    "            r = i\n",
    "            while (r -i + 1) <= windowLength and r < len(s2):\n",
    "                windowSet[s2[r]] = 1 + windowSet.get(s2[r], 0)\n",
    "                r+=1\n",
    "            if windowSet == target:\n",
    "                return True\n",
    "\n",
    "        return False\n",
    "               "
   ]
  }
 ],
 "metadata": {
  "kernelspec": {
   "display_name": "base",
   "language": "python",
   "name": "python3"
  },
  "language_info": {
   "codemirror_mode": {
    "name": "ipython",
    "version": 3
   },
   "file_extension": ".py",
   "mimetype": "text/x-python",
   "name": "python",
   "nbconvert_exporter": "python",
   "pygments_lexer": "ipython3",
   "version": "3.11.7"
  }
 },
 "nbformat": 4,
 "nbformat_minor": 2
}
