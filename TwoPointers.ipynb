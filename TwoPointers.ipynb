{
 "cells": [
  {
   "cell_type": "markdown",
   "metadata": {},
   "source": [
    "Valid Palindrome\n",
    "Given a string s, return true if it is a palindrome, otherwise return false.\n",
    "\n",
    "A palindrome is a string that reads the same forward and backward. It is also case-insensitive and ignores all non-alphanumeric characters.\n",
    "\n",
    "Example 1:\n",
    "\n",
    "Input: s = \"Was it a car or a cat I saw?\"\n",
    "\n",
    "Output: true\n",
    "Explanation: After considering only alphanumerical characters we have \"wasitacaroracatisaw\", which is a palindrome.\n",
    "\n",
    "Example 2:\n",
    "\n",
    "Input: s = \"tab a cat\"\n",
    "\n",
    "Output: false\n",
    "Explanation: \"tabacat\" is not a palindrome.\n",
    "\n",
    "Constraints:\n",
    "\n",
    "1 <= s.length <= 1000"
   ]
  },
  {
   "cell_type": "code",
   "execution_count": 17,
   "metadata": {},
   "outputs": [],
   "source": [
    "def isPalindrome(s):\n",
    "    cleanedStr = ''\n",
    "    for char in s:\n",
    "        if char.isalnum():\n",
    "            cleanedStr += char.lower()\n",
    "    \n",
    "    return (cleanedStr == cleanedStr[::-1])\n",
    "\n"
   ]
  },
  {
   "cell_type": "code",
   "execution_count": 19,
   "metadata": {},
   "outputs": [
    {
     "data": {
      "text/plain": [
       "False"
      ]
     },
     "execution_count": 19,
     "metadata": {},
     "output_type": "execute_result"
    }
   ],
   "source": [
    "s = \"Was it a car or a cat I saw?\"\n",
    "isPalindrome(s)"
   ]
  },
  {
   "cell_type": "code",
   "execution_count": 22,
   "metadata": {},
   "outputs": [],
   "source": [
    "def isPalindromeRaw(s):\n",
    "    l = 0\n",
    "    r = len(s) - 1\n",
    "    while l < r:\n",
    "        while l<r and not isAlphaNumerical(s[l]):\n",
    "            l+=1\n",
    "        \n",
    "        while r>l and not isAlphaNumerical(s[r]):\n",
    "            r-=1\n",
    "\n",
    "        if s[l].lower() != s[r].lower():\n",
    "            return False\n",
    "        \n",
    "        l+=1\n",
    "        r-=1\n",
    "\n",
    "    return True\n",
    "\n",
    "def isAlphaNumerical(c):\n",
    "    return ( ord('a')<=ord(c)<=ord('z') or ord('A')<=ord(c)<=ord('Z') or ord('0')<=ord(c)<=ord('9'))"
   ]
  },
  {
   "cell_type": "code",
   "execution_count": 24,
   "metadata": {},
   "outputs": [
    {
     "data": {
      "text/plain": [
       "False"
      ]
     },
     "execution_count": 24,
     "metadata": {},
     "output_type": "execute_result"
    }
   ],
   "source": [
    "s = \"Was it a car or a cat I saw?\"\n",
    "isPalindromeRaw(s)"
   ]
  },
  {
   "cell_type": "markdown",
   "metadata": {},
   "source": [
    "Two Integer Sum II\n",
    "Given an array of integers numbers that is sorted in non-decreasing order.\n",
    "\n",
    "Return the indices (1-indexed) of two numbers, [index1, index2], such that they add up to a given target number target and index1 < index2. Note that index1 and index2 cannot be equal, therefore you may not use the same element twice.\n",
    "\n",
    "There will always be exactly one valid solution.\n",
    "\n",
    "Your solution must use \n",
    "O\n",
    "(\n",
    "1\n",
    ")\n",
    "O(1) additional space.\n",
    "\n",
    "Example 1:\n",
    "\n",
    "Input: numbers = [1,2,3,4], target = 3\n",
    "\n",
    "Output: [1,2]\n",
    "Explanation:\n",
    "The sum of 1 and 2 is 3. Since we are assuming a 1-indexed array, index1 = 1, index2 = 2. We return [1, 2].\n",
    "\n"
   ]
  },
  {
   "cell_type": "code",
   "execution_count": null,
   "metadata": {},
   "outputs": [],
   "source": [
    "class Solution:\n",
    "    def twoSum(self, numbers: List[int], target: int) -> List[int]:\n",
    "        for i in range(len(numbers)):\n",
    "            r = i+1\n",
    "            while r < (len(numbers)):\n",
    "                if (numbers[i] + numbers[r]) == target: return [i+1, r+1]\n",
    "                else: r+=1\n",
    "\n",
    "            "
   ]
  },
  {
   "cell_type": "code",
   "execution_count": null,
   "metadata": {},
   "outputs": [],
   "source": [
    "class Solution(object):\n",
    "    def twoSum(self, numbers, target):\n",
    "        \"\"\"\n",
    "        :type numbers: List[int]\n",
    "        :type target: int\n",
    "        :rtype: List[int]\n",
    "        \"\"\"  \n",
    "        i = 0\n",
    "        while i < len(numbers):\n",
    "            r = i+1\n",
    "            while r < (len(numbers)):\n",
    "                if (numbers[i] + numbers[r]) == target: return [i+1, r+1]\n",
    "                else: r+=1  \n",
    "            i+=1    "
   ]
  },
  {
   "cell_type": "code",
   "execution_count": null,
   "metadata": {},
   "outputs": [],
   "source": [
    "# Optimal soln by levraging the sorted array by increasing or decreasing teh values based on target \n",
    "class Solution(object):\n",
    "    def twoSum(self, numbers, target):\n",
    "        \"\"\"\n",
    "        :type numbers: List[int]\n",
    "        :type target: int\n",
    "        :rtype: List[int]\n",
    "        \"\"\"  \n",
    "        l = 0\n",
    "        r = len(numbers) - 1\n",
    "\n",
    "        while l < r:\n",
    "            currSum = numbers[l] + numbers[r]\n",
    "            if currSum > target:\n",
    "                r -= 1\n",
    "            elif currSum< target:\n",
    "                l += 1\n",
    "            else:\n",
    "                return [l+1, r+1]\n"
   ]
  },
  {
   "cell_type": "markdown",
   "metadata": {},
   "source": [
    "3Sum\n",
    "Solved \n",
    "Given an integer array nums, return all the triplets [nums[i], nums[j], nums[k]] where nums[i] + nums[j] + nums[k] == 0, and the indices i, j and k are all distinct.\n",
    "\n",
    "The output should not contain any duplicate triplets. You may return the output and the triplets in any order.\n",
    "\n",
    "Example 1:\n",
    "\n",
    "Input: nums = [-1,0,1,2,-1,-4]\n",
    "\n",
    "Output: [[-1,-1,2],[-1,0,1]]\n",
    "Explanation:\n",
    "nums[0] + nums[1] + nums[2] = (-1) + 0 + 1 = 0.\n",
    "nums[1] + nums[2] + nums[4] = 0 + 1 + (-1) = 0.\n",
    "nums[0] + nums[3] + nums[4] = (-1) + 2 + (-1) = 0.\n",
    "The distinct triplets are [-1,0,1] and [-1,-1,2].\n",
    "\n"
   ]
  },
  {
   "cell_type": "code",
   "execution_count": null,
   "metadata": {},
   "outputs": [],
   "source": [
    "class Solution(object):\n",
    "    def threeSum(self, nums):\n",
    "        \"\"\"\n",
    "        :type nums: List[int]\n",
    "        :rtype: List[List[int]]\n",
    "        \"\"\"\n",
    "        nums.sort()\n",
    "        res = []\n",
    "\n",
    "        for index, num in enumerate(nums):\n",
    "            if index>0 and num == nums[index-1]:\n",
    "                continue\n",
    "\n",
    "            l = index + 1\n",
    "            r = len(nums) -1\n",
    "\n",
    "            while l<r:\n",
    "                threeSum = num + nums[l] + nums[r]\n",
    "\n",
    "                if threeSum > 0:\n",
    "                    r -= 1\n",
    "                elif threeSum < 0:\n",
    "                    l += 1\n",
    "                else:\n",
    "                    res.append([num, nums[l], nums[r]])\n",
    "                    l+=1\n",
    "                    while l < r and nums[l] == nums[l-1]:\n",
    "                        l+=1\n",
    "        \n",
    "        return res"
   ]
  },
  {
   "cell_type": "markdown",
   "metadata": {},
   "source": [
    "Container With Most Water\n",
    "Solved \n",
    "You are given an integer array heights where heights[i] represents the height of the \n",
    "i\n",
    "t\n",
    "h\n",
    "i \n",
    "th\n",
    "  bar.\n",
    "\n",
    "You may choose any two bars to form a container. Return the maximum amount of water a container can store.\n",
    "\n",
    "Example 1:\n",
    "\n",
    "Input: height = [1,7,2,5,4,7,3,6]\n",
    "\n",
    "Output: 36"
   ]
  },
  {
   "cell_type": "code",
   "execution_count": null,
   "metadata": {},
   "outputs": [],
   "source": [
    "class Solution(object):\n",
    "    def maxArea(self, height):\n",
    "        \"\"\"\n",
    "        :type height: List[int]\n",
    "        :rtype: int\n",
    "        \"\"\"\n",
    "        l=0\n",
    "        maxArea = 0\n",
    "        while l<len(height)-1:\n",
    "            r=l+1\n",
    "            while r<len(height):\n",
    "                maxArea = max(maxArea, (r-l)*min(height[l], height[r]))\n",
    "                r+=1\n",
    "            l+=1\n",
    "    \n",
    "        return maxArea  "
   ]
  },
  {
   "cell_type": "code",
   "execution_count": null,
   "metadata": {},
   "outputs": [],
   "source": [
    "# Optimal solution using 2 pointers where i compare first and last heights compute max area and move in based on shortest height\n",
    "\n",
    "class Solution(object):\n",
    "    def maxArea(self, height):\n",
    "        \"\"\"\n",
    "        :type height: List[int]\n",
    "        :rtype: int\n",
    "        \"\"\"\n",
    "        l=0\n",
    "        r=len(height)-1\n",
    "        maxArea = 0\n",
    "        while l<r:\n",
    "            maxArea = max(maxArea, (r-l)*min(height[l], height[r]))\n",
    "            if min(height[l], height[r]) == height[l]:\n",
    "                l+=1\n",
    "            elif min(height[l], height[r]) == height[r]:\n",
    "                r-=1\n",
    "        \n",
    "        return maxArea"
   ]
  }
 ],
 "metadata": {
  "kernelspec": {
   "display_name": "base",
   "language": "python",
   "name": "python3"
  },
  "language_info": {
   "codemirror_mode": {
    "name": "ipython",
    "version": 3
   },
   "file_extension": ".py",
   "mimetype": "text/x-python",
   "name": "python",
   "nbconvert_exporter": "python",
   "pygments_lexer": "ipython3",
   "version": "3.11.7"
  }
 },
 "nbformat": 4,
 "nbformat_minor": 2
}
