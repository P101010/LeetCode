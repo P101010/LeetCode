{
 "cells": [
  {
   "cell_type": "markdown",
   "metadata": {},
   "source": [
    "# Given an integer array nums, return true if any value appears at least twice in the array, and return false if every element is distinct.\n",
    "\n",
    "Example 1:\n",
    "\n",
    "Input: nums = [1,2,3,1]\n",
    "\n",
    "Output: true\n",
    "\n",
    "Explanation:\n",
    "\n",
    "The element 1 occurs at the indices 0 and 3.\n",
    "\n",
    "Example 2:\n",
    "\n",
    "Input: nums = [1,2,3,4]\n",
    "\n",
    "Output: false\n",
    "\n",
    "Explanation:\n",
    "\n",
    "All elements are distinct.\n",
    "\n",
    "Example 3:\n",
    "\n",
    "Input: nums = [1,1,1,3,3,4,3,2,4,2]\n",
    "\n",
    "Output: true\n"
   ]
  },
  {
   "cell_type": "code",
   "execution_count": 1,
   "metadata": {},
   "outputs": [],
   "source": [
    "def duplicates(num_array):\n",
    "    output_medium = [] \n",
    "    # looping through the list\n",
    "    for i in num_array:\n",
    "        # checking if the elemnt exists in the o/p list\n",
    "        if i in output_medium:\n",
    "            return True\n",
    "        output_medium.append(i)\n",
    "    return False\n",
    "            \n"
   ]
  },
  {
   "cell_type": "code",
   "execution_count": 2,
   "metadata": {},
   "outputs": [
    {
     "data": {
      "text/plain": [
       "True"
      ]
     },
     "execution_count": 2,
     "metadata": {},
     "output_type": "execute_result"
    }
   ],
   "source": [
    "duplicates([1,2,3,1])"
   ]
  },
  {
   "cell_type": "code",
   "execution_count": 6,
   "metadata": {},
   "outputs": [
    {
     "data": {
      "text/plain": [
       "False"
      ]
     },
     "execution_count": 6,
     "metadata": {},
     "output_type": "execute_result"
    }
   ],
   "source": [
    "duplicates([1,2,3,4])"
   ]
  },
  {
   "cell_type": "code",
   "execution_count": 10,
   "metadata": {},
   "outputs": [],
   "source": [
    "# Using Hashset \n",
    "\n",
    "def duplicates_h(num_array):\n",
    "    # Initialize hashset\n",
    "    hashset = set()\n",
    "    # looping through the list\n",
    "    for i in num_array:\n",
    "        # checking if the elemnt exists in the set\n",
    "        if i in hashset:\n",
    "            return True\n",
    "        hashset.add(i)\n",
    "    return False"
   ]
  },
  {
   "cell_type": "code",
   "execution_count": 11,
   "metadata": {},
   "outputs": [
    {
     "data": {
      "text/plain": [
       "True"
      ]
     },
     "execution_count": 11,
     "metadata": {},
     "output_type": "execute_result"
    }
   ],
   "source": [
    "duplicates_h([1,2,3,1])"
   ]
  },
  {
   "cell_type": "code",
   "execution_count": 12,
   "metadata": {},
   "outputs": [
    {
     "data": {
      "text/plain": [
       "False"
      ]
     },
     "execution_count": 12,
     "metadata": {},
     "output_type": "execute_result"
    }
   ],
   "source": [
    "duplicates([1,2,3,4])"
   ]
  },
  {
   "cell_type": "markdown",
   "metadata": {},
   "source": [
    "# Given two strings s and t, return true if t is an anagram of s, and false otherwise.\n",
    "\n",
    "Example 1:\n",
    "\n",
    "Input: s = \"anagram\", t = \"nagaram\"\n",
    "\n",
    "Output: true\n",
    "\n",
    "Example 2:\n",
    "\n",
    "Input: s = \"rat\", t = \"car\"\n",
    "\n",
    "Output: false"
   ]
  },
  {
   "cell_type": "code",
   "execution_count": 29,
   "metadata": {},
   "outputs": [],
   "source": [
    "def anagram(string_a, string_b):\n",
    "    dic_a = {}\n",
    "    dic_b = {}\n",
    "    # access both strings together\n",
    "    for letter_a, letter_b in zip(string_a, string_b):\n",
    "        # check if letter in dictionary as key\n",
    "        if letter_a in dic_a:\n",
    "            dic_a[letter_a] += 1\n",
    "        else:\n",
    "            dic_a[letter_a] = 1\n",
    "        if letter_b in dic_b:\n",
    "            dic_b[letter_b] += 1\n",
    "        else:\n",
    "            dic_b[letter_b] = 1\n",
    "    return (dic_a == dic_b) "
   ]
  },
  {
   "cell_type": "code",
   "execution_count": 15,
   "metadata": {},
   "outputs": [],
   "source": [
    "def isAnagram(s, t):\n",
    "        \"\"\"\n",
    "        :type s: str\n",
    "        :type t: str\n",
    "        :rtype: bool\n",
    "        \"\"\"\n",
    "        dic_a = {}\n",
    "        dic_b = {}\n",
    "        for i in range(0, len(s)):\n",
    "            dic_a[s[i]] = 1 + dic_a.get(s[i], 0)\n",
    "            dic_b[t[i]] = 1 + dic_b.get(t[i], 0)\n",
    "\n",
    "        return dic_a == dic_b"
   ]
  },
  {
   "cell_type": "code",
   "execution_count": 16,
   "metadata": {},
   "outputs": [
    {
     "data": {
      "text/plain": [
       "True"
      ]
     },
     "execution_count": 16,
     "metadata": {},
     "output_type": "execute_result"
    }
   ],
   "source": [
    "isAnagram('anagram','nagaram')"
   ]
  },
  {
   "cell_type": "code",
   "execution_count": 7,
   "metadata": {},
   "outputs": [
    {
     "data": {
      "text/plain": [
       "7"
      ]
     },
     "execution_count": 7,
     "metadata": {},
     "output_type": "execute_result"
    }
   ],
   "source": []
  },
  {
   "cell_type": "code",
   "execution_count": 36,
   "metadata": {},
   "outputs": [],
   "source": [
    "def anagram(string_a, string_b):\n",
    "    # check base case\n",
    "    if len(string_a) == len(string_b):\n",
    "        dic_a = {}\n",
    "        dic_b = {}\n",
    "        for i in range(0, len(string_a)):\n",
    "            # get method in dict can be told to return a default value if it does not exist\n",
    "            dic_a[string_a[i]] = 1 + dic_a.get(string_a[i], 0)\n",
    "            dic_b[string_b[i]] = 1 + dic_b.get(string_b[i], 0)\n",
    "        return (dic_a == dic_b) \n",
    "    else:\n",
    "        return False"
   ]
  },
  {
   "cell_type": "code",
   "execution_count": 38,
   "metadata": {},
   "outputs": [
    {
     "data": {
      "text/plain": [
       "False"
      ]
     },
     "execution_count": 38,
     "metadata": {},
     "output_type": "execute_result"
    }
   ],
   "source": [
    "anagram('anagram','dagaram')"
   ]
  },
  {
   "cell_type": "markdown",
   "metadata": {},
   "source": [
    "# Given an array of integers nums and an integer target, return indices of the two numbers such that they add up to target.\n",
    "\n",
    "Example 1:\n",
    "\n",
    "Input: nums = [2,7,11,15], target = 9\n",
    "Output: [0,1]\n",
    "Explanation: Because nums[0] + nums[1] == 9, we return [0, 1].\n",
    "Example 2:\n",
    "\n",
    "Input: nums = [3,2,4], target = 6\n",
    "Output: [1,2]"
   ]
  },
  {
   "cell_type": "code",
   "execution_count": 39,
   "metadata": {},
   "outputs": [],
   "source": [
    "def adds_up(nums, target):\n",
    "    for i, v in enumerate(nums):\n",
    "        for j, v2 in enumerate(nums):\n",
    "            if ((v + v2) == target):\n",
    "                return [i,j]\n",
    "    "
   ]
  },
  {
   "cell_type": "code",
   "execution_count": 40,
   "metadata": {},
   "outputs": [
    {
     "data": {
      "text/plain": [
       "[0, 1]"
      ]
     },
     "execution_count": 40,
     "metadata": {},
     "output_type": "execute_result"
    }
   ],
   "source": [
    "adds_up([2,7,11,15], 9)"
   ]
  },
  {
   "cell_type": "code",
   "execution_count": 4,
   "metadata": {},
   "outputs": [],
   "source": [
    "# In the above approach i just loop through twice and check if they sum to target but high complexity\n",
    "# In the below approah we instead used diff between the num and targt and check if that diff exists in the nums list (target - v = v2)\n",
    "\n",
    "def adds_up(nums, target):\n",
    "    prevNum = {} # key is number and value is index\n",
    "    for index, num in enumerate(nums):\n",
    "        diff = target - num\n",
    "        if diff in prevNum:\n",
    "            return [prevNum[diff], index]\n",
    "        prevNum[num] = index"
   ]
  },
  {
   "cell_type": "code",
   "execution_count": null,
   "metadata": {},
   "outputs": [],
   "source": [
    "def adds_up(nums, target):\n",
    "    prevNum = {} # key is number and value is index\n",
    "    for index, num in enumerate(nums):\n",
    "        diff = target - num\n",
    "        if diff in prevNum:\n",
    "            return [prevNum[diff], index]\n",
    "        prevNum[num] = index"
   ]
  },
  {
   "cell_type": "code",
   "execution_count": 22,
   "metadata": {},
   "outputs": [],
   "source": [
    "    def twoSum( nums, target):\n",
    "        \"\"\"\n",
    "        :type nums: List[int]\n",
    "        :type target: int\n",
    "        :rtype: List[int]\n",
    "        \"\"\"\n",
    "        dict_of_diff = {}\n",
    "        for index, val in enumerate(nums):\n",
    "            diff = target - val\n",
    "            if diff in dict_of_diff:\n",
    "                return [dict_of_diff[diff], index]\n",
    "            else:\n",
    "                dict_of_diff[val] = index"
   ]
  },
  {
   "cell_type": "code",
   "execution_count": 24,
   "metadata": {},
   "outputs": [
    {
     "data": {
      "text/plain": [
       "[0, 2]"
      ]
     },
     "execution_count": 24,
     "metadata": {},
     "output_type": "execute_result"
    }
   ],
   "source": [
    "twoSum([2,11,7,15], 9)"
   ]
  },
  {
   "cell_type": "markdown",
   "metadata": {},
   "source": [
    "# Given an array of strings strs, group the anagrams together. You can return the answer in any order.\n",
    "\n",
    " \n",
    "\n",
    "Example 1:\n",
    "\n",
    "Input: strs = [\"eat\",\"tea\",\"tan\",\"ate\",\"nat\",\"bat\"]\n",
    "\n",
    "Output: [[\"bat\"],[\"nat\",\"tan\"],[\"ate\",\"eat\",\"tea\"]]\n",
    "\n",
    "Explanation:\n",
    "\n",
    "There is no string in strs that can be rearranged to form \"bat\".\n",
    "The strings \"nat\" and \"tan\" are anagrams as they can be rearranged to form each other.\n",
    "The strings \"ate\", \"eat\", and \"tea\" are anagrams as they can be rearranged to form each other.\n",
    "Example 2:\n",
    "\n",
    "Input: strs = [\"\"]\n",
    "\n",
    "Output: [[\"\"]]\n",
    "\n",
    "Example 3:\n",
    "\n",
    "Input: strs = [\"a\"]\n",
    "\n",
    "Output: [[\"a\"]]"
   ]
  },
  {
   "cell_type": "code",
   "execution_count": 69,
   "metadata": {},
   "outputs": [],
   "source": [
    "def group_anagrams(words):\n",
    "    output = []\n",
    "    done = []\n",
    "    for i, word in enumerate(words):\n",
    "        if word in done: \n",
    "            continue\n",
    "        pair = []\n",
    "        pair.append(word)\n",
    "        done.append(word)\n",
    "        key = {}\n",
    "        for n in range(0, len(word)):\n",
    "            key[word[n]] = 1 + key.get(word[n], 0)\n",
    "        for j, word_two in enumerate(words):\n",
    "            target = {}\n",
    "            #print(key)\n",
    "            if i<j:\n",
    "                for m in range(0, len(word_two)):\n",
    "                    target[word_two[m]] = 1 + target.get(word_two[m], 0)\n",
    "            \n",
    "            #print(key)\n",
    "            #print(target)\n",
    "            if key == target: \n",
    "                pair.append(word_two)\n",
    "                done.append(word_two)\n",
    "        \n",
    "        output.append(pair)\n",
    "        \n",
    "\n",
    "    return output\n"
   ]
  },
  {
   "cell_type": "code",
   "execution_count": 70,
   "metadata": {},
   "outputs": [
    {
     "data": {
      "text/plain": [
       "[['eat', 'tea', 'ate'], ['tan', 'nat'], ['bat']]"
      ]
     },
     "execution_count": 70,
     "metadata": {},
     "output_type": "execute_result"
    }
   ],
   "source": [
    "group_anagrams([\"eat\",\"tea\",\"tan\",\"ate\",\"nat\",\"bat\"])"
   ]
  },
  {
   "cell_type": "code",
   "execution_count": 31,
   "metadata": {},
   "outputs": [
    {
     "data": {
      "text/plain": [
       "defaultdict(list, {(1, 3, 4): [1]})"
      ]
     },
     "execution_count": 31,
     "metadata": {},
     "output_type": "execute_result"
    }
   ],
   "source": [
    " result = collections.defaultdict(list)\n",
    " result[tuple([1,3,4])] = [1]\n",
    " result"
   ]
  },
  {
   "cell_type": "code",
   "execution_count": 35,
   "metadata": {},
   "outputs": [],
   "source": [
    "    def groupAnagrams(strs):\n",
    "        \"\"\"\n",
    "        :type strs: List[str]\n",
    "        :rtype: List[List[str]]\n",
    "        \"\"\"\n",
    "        list_dict = collections.defaultdict(list)\n",
    "        for word in strs:\n",
    "            s = [0] * 26\n",
    "            for char in word:\n",
    "                s[ord(char) - ord('a')] += 1\n",
    "            list_dict[tuple(s)].append(word)\n",
    "        \n",
    "        return list_dict.values()"
   ]
  },
  {
   "cell_type": "code",
   "execution_count": 36,
   "metadata": {},
   "outputs": [
    {
     "data": {
      "text/plain": [
       "dict_values([['eat', 'tea', 'ate'], ['tan', 'nat'], ['bat']])"
      ]
     },
     "execution_count": 36,
     "metadata": {},
     "output_type": "execute_result"
    }
   ],
   "source": [
    "groupAnagrams([\"eat\",\"tea\",\"tan\",\"ate\",\"nat\",\"bat\"])"
   ]
  },
  {
   "cell_type": "code",
   "execution_count": 26,
   "metadata": {},
   "outputs": [],
   "source": [
    "\n",
    "import collections\n",
    "def group_anagrams(words):\n",
    "    # Craete a default dict of lists\n",
    "    result = collections.defaultdict(list)\n",
    "    for word in words:\n",
    "        # Create a blueprint for my char count as a-z 0-26\n",
    "        s = [0]*26\n",
    "        for char in word:\n",
    "            # Incremented char count using ascii differnce to identufy position in blueprint \n",
    "            s[ord(char) - ord('a')] += 1\n",
    "        # Added each blueprint in dict and appeneded words that matched blueprint\n",
    "        result[tuple(s)].append(word) # converted into tuple as lists cannot be keys because they are mutable(change maadbodu)\n",
    "\n",
    "    # return values wrt each blueprint\n",
    "    return result.values()"
   ]
  },
  {
   "cell_type": "code",
   "execution_count": 15,
   "metadata": {},
   "outputs": [
    {
     "data": {
      "text/plain": [
       "dict_values([['eat', 'tea', 'ate'], ['tan', 'nat'], ['bat']])"
      ]
     },
     "execution_count": 15,
     "metadata": {},
     "output_type": "execute_result"
    }
   ],
   "source": [
    "group_anagrams([\"eat\",\"tea\",\"tan\",\"ate\",\"nat\",\"bat\"])"
   ]
  },
  {
   "cell_type": "markdown",
   "metadata": {},
   "source": [
    "# Given an integer array nums and an integer k, return the k most frequent elements. You may return the answer in any order.\n",
    "\n",
    "Example 1:\n",
    "\n",
    "Input: nums = [1,1,1,2,2,3], k = 2\n",
    "Output: [1,2]\n",
    "Example 2:\n",
    "\n",
    "Input: nums = [1], k = 1\n",
    "Output: [1]"
   ]
  },
  {
   "cell_type": "code",
   "execution_count": 52,
   "metadata": {},
   "outputs": [
    {
     "data": {
      "text/plain": [
       "set()"
      ]
     },
     "execution_count": 52,
     "metadata": {},
     "output_type": "execute_result"
    }
   ],
   "source": [
    "nums = [1,1, 2, 2, 2, 3]\n",
    "hashset = set()\n",
    "dict = {1:2,2:3,3:1}\n",
    "for i in nums:\n",
    "    if dict.get(i,0) > 2:\n",
    "        if i in hashset:\n",
    "            print(i)\n",
    "            hashset.add[i]\n",
    "\n",
    "hashset\n",
    "\n",
    "    "
   ]
  },
  {
   "cell_type": "code",
   "execution_count": 35,
   "metadata": {},
   "outputs": [],
   "source": [
    "def KMF(nums, k):\n",
    "    neigh = {}\n",
    "    # Ctreate a dict of all values and count\n",
    "    for i in nums:\n",
    "        neigh[i] = 1 + neigh.get(i, 0)\n",
    "    \n",
    "    # sort the dict and convert it back to a dict in descending order (default - ascending) \n",
    "    sort = dict(sorted(neigh.items(), key=lambda item:item[1], reverse = True))\n",
    "    output = []\n",
    "    for index, j in enumerate(sort.keys()):\n",
    "        if index< k:\n",
    "            output.append(j)\n",
    "    return output\n",
    "    "
   ]
  },
  {
   "cell_type": "code",
   "execution_count": 36,
   "metadata": {},
   "outputs": [
    {
     "data": {
      "text/plain": [
       "[1, 2]"
      ]
     },
     "execution_count": 36,
     "metadata": {},
     "output_type": "execute_result"
    }
   ],
   "source": [
    "KMF([1,1,1,2,2,3], 2)"
   ]
  },
  {
   "cell_type": "code",
   "execution_count": 66,
   "metadata": {},
   "outputs": [],
   "source": [
    "# The other approach to this problem comes by doing the reverse of a bucket sort \n",
    "def KMF_Two(nums, k):\n",
    "    neigh = {}\n",
    "    # Ctreate a dict of all values and count\n",
    "    for i in nums:\n",
    "        neigh[i] = 1 + neigh.get(i, 0)\n",
    "\n",
    "    # A list of list where index is value in nums and value at the index is count \n",
    "    count = [[] for i in range(0, len(nums)+1)]\n",
    "    for key, value in neigh.items():\n",
    "        count[value].append(key)\n",
    "\n",
    "    res = []\n",
    "    for j in range(len(count) -1, 0, -1): # from last index to first in decending\n",
    "        for n in count[j]:\n",
    "            res.append(n)\n",
    "            if len(res) == k:# An array of array with empty elemnts when looped will not result in anything hence only those indexes with values show up\n",
    "                return res\n",
    "\n",
    "            "
   ]
  },
  {
   "cell_type": "code",
   "execution_count": null,
   "metadata": {},
   "outputs": [],
   "source": [
    "# The other approach to this problem comes by doing the reverse of a bucket sort \n",
    "def KMF_Two(nums, k):\n",
    "    neigh = {}\n",
    "    # Ctreate a dict of all values and count\n",
    "    for i in nums:\n",
    "        neigh[i] = 1 + neigh.get(i, 0)\n",
    "\n",
    "    # A list of list where index is value in nums and value at the index is count \n",
    "    count = [[] for i in range(0, len(nums)+1)]\n",
    "    for key, value in neigh.items():\n",
    "        count[value].append(key)\n",
    "\n",
    "    res = []\n",
    "    for j in range(len(count) -1, 0, -1): # from last index to first in decending\n",
    "        for n in count[j]:\n",
    "            res.append(n)\n",
    "            if len(res) == k:# An array of array with empty elemnts when looped will not result in anything hence only those indexes with values show up\n",
    "                return res\n",
    "\n"
   ]
  },
  {
   "cell_type": "code",
   "execution_count": 67,
   "metadata": {},
   "outputs": [
    {
     "data": {
      "text/plain": [
       "[1, 2]"
      ]
     },
     "execution_count": 67,
     "metadata": {},
     "output_type": "execute_result"
    }
   ],
   "source": [
    "KMF_Two([1,1,1,2,2,3], 2)"
   ]
  },
  {
   "cell_type": "markdown",
   "metadata": {},
   "source": [
    "\n",
    "# Design an algorithm to encode a list of strings to a string. The encoded string is then sent over the network and is decoded back to the original list of strings.\n",
    "\n",
    "Please implement encode and decode\n",
    "\n",
    "Example\n",
    "\n",
    "Example1\n",
    "Input: [\"lint\", \"code\", \"love\", \"you\" ] Output: [\"lint\", \"code\", \"love\", \"you\" ]\n",
    "Explanation:\n",
    "One possible encode method is: \"lint:; code: ;love: ;you\""
   ]
  },
  {
   "cell_type": "code",
   "execution_count": 22,
   "metadata": {},
   "outputs": [],
   "source": [
    "# Assumption :; not part of input\n",
    "\n",
    "def decode(encoded_data):\n",
    "    output_data = []\n",
    "    string = ''\n",
    "    for cha in encoded_data:\n",
    "        if cha == ':':\n",
    "            output_data.append(string)\n",
    "            string = ''\n",
    "        elif cha == ';':\n",
    "            continue\n",
    "        else:\n",
    "            string += cha\n",
    "    return output_data\n",
    "\n",
    "\n",
    "\n",
    "def encode(input_data):\n",
    "    encoded_data = \"\"\n",
    "    for word in input_data:\n",
    "        encoded_data += (word + \":;\")\n",
    "    return encoded_data\n"
   ]
  },
  {
   "cell_type": "code",
   "execution_count": 23,
   "metadata": {},
   "outputs": [
    {
     "data": {
      "text/plain": [
       "['lint', 'code', 'love', 'you']"
      ]
     },
     "execution_count": 23,
     "metadata": {},
     "output_type": "execute_result"
    }
   ],
   "source": [
    "decode(encode([\"lint\", \"code\", \"love\", \"you\" ]))"
   ]
  },
  {
   "cell_type": "code",
   "execution_count": 53,
   "metadata": {},
   "outputs": [],
   "source": [
    "# Any char\n",
    "\n",
    "def decode(encoded_data):\n",
    "    output = []\n",
    "    get_len = True\n",
    "    checkforHash = False\n",
    "    get_char = False\n",
    "    skip = False\n",
    "    word_len = 0\n",
    "    for index, cha in enumerate(encoded_data):\n",
    "        if get_len:\n",
    "            word_len = int(cha)\n",
    "            checkforHash = True\n",
    "            get_len = False\n",
    "        elif checkforHash:\n",
    "            if cha == '#':\n",
    "                checkforHash = False\n",
    "                get_char = True\n",
    "        elif get_char:\n",
    "            num = word_len\n",
    "            count = index\n",
    "            word =''\n",
    "            while num!=0:\n",
    "                word += encoded_data[count]\n",
    "                count += 1\n",
    "                num -= 1\n",
    "            output.append(word)\n",
    "            get_len = False\n",
    "            get_char = False\n",
    "            skip = True\n",
    "        elif skip:\n",
    "            word_len -= 1\n",
    "            if word_len == 1:\n",
    "                skip = False\n",
    "                get_len = True\n",
    "    return output\n",
    "                \n",
    "\n",
    "def encode(input_data):\n",
    "    encoded_data = ''\n",
    "    for word in input_data:\n",
    "        encoded_data += (str(len(word)) + \"#\" + word)\n",
    "    return encoded_data\n",
    "        "
   ]
  },
  {
   "cell_type": "code",
   "execution_count": 60,
   "metadata": {},
   "outputs": [
    {
     "name": "stdout",
     "output_type": "stream",
     "text": [
      "5#lint#4#code4#love3#you\n",
      "['lint#4', 'code', 'love', 'you']\n"
     ]
    }
   ],
   "source": [
    "print(encode([\"lint#\", \"code\", \"love\", \"you\" ]))\n",
    "print(decode(encode([\"lint#4\", \"code\", \"love\", \"you\" ])))"
   ]
  },
  {
   "cell_type": "code",
   "execution_count": 67,
   "metadata": {},
   "outputs": [],
   "source": [
    "# Efficient soln - Use a pointer instead of a for loop as it is easier to skip \n",
    "\n",
    "def encode(input_data):\n",
    "    encoded_data = ''\n",
    "    for word in input_data:\n",
    "        encoded_data += (str(len(word)) + \"#\" + word)\n",
    "    return encoded_data\n",
    "\n",
    "def decode(encoded_data):\n",
    "    output = []\n",
    "    pointer = 0\n",
    "    while pointer < len(encoded_data):\n",
    "        temp = pointer\n",
    "        while encoded_data[temp] != '#':\n",
    "            temp += 1\n",
    "        word_len = int(encoded_data[pointer:temp])\n",
    "        output.append(encoded_data[temp + 1 : temp + 1 + word_len])\n",
    "        pointer = word_len + temp + 1\n",
    "        \n",
    "    return output"
   ]
  },
  {
   "cell_type": "code",
   "execution_count": 68,
   "metadata": {},
   "outputs": [
    {
     "name": "stdout",
     "output_type": "stream",
     "text": [
      "5#lint#4#code4#love3#you\n",
      "['lint#4', 'code', 'love', 'you']\n"
     ]
    }
   ],
   "source": [
    "print(encode([\"lint#\", \"code\", \"love\", \"you\" ]))\n",
    "print(decode(encode([\"lint#4\", \"code\", \"love\", \"you\" ])))"
   ]
  },
  {
   "cell_type": "markdown",
   "metadata": {},
   "source": [
    "# Given an integer array nums, return an array answer such that answer[i] is equal to the product of all the elements of nums except nums[i].\n",
    "\n",
    "The product of any prefix or suffix of nums is guaranteed to fit in a 32-bit integer.\n",
    "\n",
    "You must write an algorithm that runs in O(n) time and without using the division operation.\n",
    "\n",
    " \n",
    "\n",
    "Example 1:\n",
    "\n",
    "Input: nums = [1,2,3,4]\n",
    "Output: [24,12,8,6]\n",
    "Example 2:\n",
    "\n",
    "Input: nums = [-1,1,0,-3,3]\n",
    "Output: [0,0,9,0,0]\n",
    " \n",
    "\n",
    "Constraints:\n",
    "\n",
    "2 <= nums.length <= 105\n",
    "-30 <= nums[i] <= 30\n",
    "The product of any prefix or suffix of nums is guaranteed to fit in a 32-bit integer.\n",
    " \n",
    "\n",
    "Follow up: Can you solve the problem in O(1) extra space complexity? (The output array does not count as extra space for space complexity analysis.)"
   ]
  },
  {
   "cell_type": "code",
   "execution_count": 71,
   "metadata": {},
   "outputs": [],
   "source": [
    "\n",
    "class Solution(object):\n",
    "    def productExceptSelf(self, nums):\n",
    "        output = []\n",
    "        for index, num in enumerate(nums):\n",
    "            output.append(self.back_mult(index, nums) * self.forw_mult(index, nums))\n",
    "        return output\n",
    "\n",
    "    # skipped self for first value at inedx 0 and decremented and multiplied remaining in ahwile loop\n",
    "    def back_mult(self, index, nums):\n",
    "        value = 1\n",
    "        while index!=0:\n",
    "            index -=1\n",
    "            value *= nums[index]\n",
    "        return value\n",
    "\n",
    "    # Skip self index and multiple remianing \n",
    "    def forw_mult(self, index, nums):\n",
    "        value = 1\n",
    "        index += 1\n",
    "        while(index < len(nums)):\n",
    "            value *= nums[index]\n",
    "            index += 1\n",
    "        return value\n",
    "\n",
    "            "
   ]
  },
  {
   "cell_type": "code",
   "execution_count": null,
   "metadata": {},
   "outputs": [],
   "source": [
    "# Optimal soln\n",
    "\n",
    "class Solution(object):\n",
    "    def productExceptSelf(self, nums):\n",
    "        output = [1] * len(nums)\n",
    "        \n",
    "        # do a front pass and update values to res\n",
    "        prefix = 1\n",
    "        for i in range(len(nums)):\n",
    "            output[i] = prefix\n",
    "            prefix *= nums[i]\n",
    "\n",
    "        # do a back pass and mult it with values in res and update res\n",
    "        postfix = 1\n",
    "        for i in range(len(nums) -1, -1, -1):\n",
    "            output[i] *= prefix\n",
    "            prefix *= nums[i]\n",
    "\n",
    "        return output\n",
    "\n",
    "\n",
    "\n",
    "            "
   ]
  },
  {
   "cell_type": "markdown",
   "metadata": {},
   "source": [
    "# Determine if a 9 x 9 Sudoku board is valid. Only the filled cells need to be validated according to the following rules:\n",
    "\n",
    "3 Base condns\n",
    "Each row must contain the digits 1-9 without repetition.\n",
    "Each column must contain the digits 1-9 without repetition.\n",
    "Each of the nine 3 x 3 sub-boxes of the grid must contain the digits 1-9 without repetition.\n",
    "Note:\n",
    "\n",
    "A Sudoku board (partially filled) could be valid but is not necessarily solvable.\n",
    "Only the filled cells need to be validated according to the mentioned rules.\n",
    "\n",
    "Input: board = \n",
    "[[\"5\",\"3\",\".\",\".\",\"7\",\".\",\".\",\".\",\".\"]\n",
    ",[\"6\",\".\",\".\",\"1\",\"9\",\"5\",\".\",\".\",\".\"]\n",
    ",[\".\",\"9\",\"8\",\".\",\".\",\".\",\".\",\"6\",\".\"]\n",
    ",[\"8\",\".\",\".\",\".\",\"6\",\".\",\".\",\".\",\"3\"]\n",
    ",[\"4\",\".\",\".\",\"8\",\".\",\"3\",\".\",\".\",\"1\"]\n",
    ",[\"7\",\".\",\".\",\".\",\"2\",\".\",\".\",\".\",\"6\"]\n",
    ",[\".\",\"6\",\".\",\".\",\".\",\".\",\"2\",\"8\",\".\"]\n",
    ",[\".\",\".\",\".\",\"4\",\"1\",\"9\",\".\",\".\",\"5\"]\n",
    ",[\".\",\".\",\".\",\".\",\"8\",\".\",\".\",\"7\",\"9\"]]\n",
    "Output: true\n",
    "Example 2:\n",
    "\n",
    "Input: board = \n",
    "[[\"8\",\"3\",\".\",\".\",\"7\",\".\",\".\",\".\",\".\"]\n",
    ",[\"6\",\".\",\".\",\"1\",\"9\",\"5\",\".\",\".\",\".\"]\n",
    ",[\".\",\"9\",\"8\",\".\",\".\",\".\",\".\",\"6\",\".\"]\n",
    ",[\"8\",\".\",\".\",\".\",\"6\",\".\",\".\",\".\",\"3\"]\n",
    ",[\"4\",\".\",\".\",\"8\",\".\",\"3\",\".\",\".\",\"1\"]\n",
    ",[\"7\",\".\",\".\",\".\",\"2\",\".\",\".\",\".\",\"6\"]\n",
    ",[\".\",\"6\",\".\",\".\",\".\",\".\",\"2\",\"8\",\".\"]\n",
    ",[\".\",\".\",\".\",\"4\",\"1\",\"9\",\".\",\".\",\"5\"]\n",
    ",[\".\",\".\",\".\",\".\",\"8\",\".\",\".\",\"7\",\"9\"]]\n",
    "Output: false\n",
    "Explanation: Same as Example 1, except with the 5 in the top left corner being modified to 8. Since there are two 8's in the top left 3x3 sub-box, it is invalid."
   ]
  },
  {
   "cell_type": "code",
   "execution_count": 53,
   "metadata": {},
   "outputs": [],
   "source": [
    "import collections\n",
    "def sudoku_check(board):\n",
    "\n",
    "    # defined a dict of lists \n",
    "    rows = collections.defaultdict(list)\n",
    "    cols = collections.defaultdict(list)\n",
    "    sq = collections.defaultdict(list)\n",
    "\n",
    "    for i in range(9):\n",
    "        for j in range(9):\n",
    "            # extract each value from board\n",
    "            value = board[i][j]\n",
    "            if value == '.':\n",
    "                continue\n",
    "            # check if value already exists in any of 3 base ocnditions\n",
    "            if value in rows[i] or value in cols[j] or value in sq[(i//3, j//3)]: \n",
    "                return False\n",
    "            rows[i].append(value)\n",
    "            cols[j].append(value)\n",
    "            sq[(i//3, j//3)].append(value)\n",
    "    \n",
    "    return True\n",
    "\n"
   ]
  },
  {
   "cell_type": "code",
   "execution_count": 54,
   "metadata": {},
   "outputs": [
    {
     "data": {
      "text/plain": [
       "True"
      ]
     },
     "execution_count": 54,
     "metadata": {},
     "output_type": "execute_result"
    }
   ],
   "source": [
    "sudoku_check([[\"5\",\"3\",\".\",\".\",\"7\",\".\",\".\",\".\",\".\"]\n",
    ",[\"6\",\".\",\".\",\"1\",\"9\",\"5\",\".\",\".\",\".\"]\n",
    ",[\".\",\"9\",\"8\",\".\",\".\",\".\",\".\",\"6\",\".\"]\n",
    ",[\"8\",\".\",\".\",\".\",\"6\",\".\",\".\",\".\",\"3\"]\n",
    ",[\"4\",\".\",\".\",\"8\",\".\",\"3\",\".\",\".\",\"1\"]\n",
    ",[\"7\",\".\",\".\",\".\",\"2\",\".\",\".\",\".\",\"6\"]\n",
    ",[\".\",\"6\",\".\",\".\",\".\",\".\",\"2\",\"8\",\".\"]\n",
    ",[\".\",\".\",\".\",\"4\",\"1\",\"9\",\".\",\".\",\"5\"]\n",
    ",[\".\",\".\",\".\",\".\",\"8\",\".\",\".\",\"7\",\"9\"]])"
   ]
  },
  {
   "cell_type": "code",
   "execution_count": 84,
   "metadata": {},
   "outputs": [
    {
     "data": {
      "text/plain": [
       "False"
      ]
     },
     "execution_count": 84,
     "metadata": {},
     "output_type": "execute_result"
    }
   ],
   "source": [
    "sudoku_check([[\"8\",\"3\",\".\",\".\",\"7\",\".\",\".\",\".\",\".\"]\n",
    ",[\"6\",\".\",\".\",\"1\",\"9\",\"5\",\".\",\".\",\".\"]\n",
    ",[\".\",\"9\",\"8\",\".\",\".\",\".\",\".\",\"6\",\".\"]\n",
    ",[\"8\",\".\",\".\",\".\",\"6\",\".\",\".\",\".\",\"3\"]\n",
    ",[\"4\",\".\",\".\",\"8\",\".\",\"3\",\".\",\".\",\"1\"]\n",
    ",[\"7\",\".\",\".\",\".\",\"2\",\".\",\".\",\".\",\"6\"]\n",
    ",[\".\",\"6\",\".\",\".\",\".\",\".\",\"2\",\"8\",\".\"]\n",
    ",[\".\",\".\",\".\",\"4\",\"1\",\"9\",\".\",\".\",\"5\"]\n",
    ",[\".\",\".\",\".\",\".\",\"8\",\".\",\".\",\"7\",\"9\"]])"
   ]
  },
  {
   "cell_type": "code",
   "execution_count": 85,
   "metadata": {},
   "outputs": [
    {
     "data": {
      "text/plain": [
       "2"
      ]
     },
     "execution_count": 85,
     "metadata": {},
     "output_type": "execute_result"
    }
   ],
   "source": [
    "max([1,2])"
   ]
  },
  {
   "cell_type": "markdown",
   "metadata": {},
   "source": [
    "# Given an unsorted array of integers nums, return the length of the longest consecutive elements sequence.\n",
    "\n",
    "You must write an algorithm that runs in O(n) time.\n",
    "\n",
    " \n",
    "\n",
    "Example 1:\n",
    "\n",
    "Input: nums = [100,4,200,1,3,2]\n",
    "Output: 4\n",
    "Explanation: The longest consecutive elements sequence is [1, 2, 3, 4]. Therefore its length is 4.\n",
    "Example 2:\n",
    "\n",
    "Input: nums = [0,3,7,2,5,8,4,6,0,1]\n",
    "Output: 9\n",
    " \n",
    "\n",
    "Constraints:\n",
    "\n",
    "0 <= nums.length <= 105\n",
    "-109 <= nums[i] <= 109"
   ]
  },
  {
   "cell_type": "code",
   "execution_count": null,
   "metadata": {},
   "outputs": [],
   "source": [
    "# solution using arrays is slower\n",
    "class Solution(object):\n",
    "    def longestConsecutive(self, nums):\n",
    "        \"\"\"\n",
    "        :type nums: List[int]\n",
    "        :rtype: int\n",
    "        \"\"\"\n",
    "        longest_seq = 0\n",
    "        for num in nums:\n",
    "            if (num - 1) not in nums:\n",
    "                length = 0\n",
    "                while (num + length) in nums:\n",
    "                    length += 1\n",
    "                longest_seq = max(length, longest_seq)\n",
    "\n",
    "        return longest_seq\n",
    "            \n"
   ]
  },
  {
   "cell_type": "code",
   "execution_count": null,
   "metadata": {},
   "outputs": [],
   "source": [
    "# Hence we use a set for faster checks \n",
    "# In array we have to go through sequentially to check for if element exists whereas in set it is unordered\n",
    "class Solution(object):\n",
    "    def longestConsecutive(self, nums):\n",
    "        \"\"\"\n",
    "        :type nums: List[int]\n",
    "        :rtype: int\n",
    "        \"\"\"\n",
    "        longest_seq = 0\n",
    "        num_set = set(nums)\n",
    "        for num in nums:\n",
    "            if (num - 1) not in num_set:\n",
    "                length = 0\n",
    "                while (num + length) in num_set:\n",
    "                    length += 1\n",
    "                longest_seq = max(length, longest_seq)\n",
    "\n",
    "        return longest_seq\n",
    "            \n"
   ]
  }
 ],
 "metadata": {
  "kernelspec": {
   "display_name": "base",
   "language": "python",
   "name": "python3"
  },
  "language_info": {
   "codemirror_mode": {
    "name": "ipython",
    "version": 3
   },
   "file_extension": ".py",
   "mimetype": "text/x-python",
   "name": "python",
   "nbconvert_exporter": "python",
   "pygments_lexer": "ipython3",
   "version": "3.11.7"
  }
 },
 "nbformat": 4,
 "nbformat_minor": 2
}
